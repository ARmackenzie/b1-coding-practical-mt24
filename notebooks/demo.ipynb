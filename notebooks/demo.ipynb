{
 "cells": [
  {
   "cell_type": "code",
   "execution_count": 2,
   "metadata": {},
   "outputs": [],
   "source": [
    "# Add relevant Jupyter notebook extensions \n",
    "%load_ext autoreload\n",
    "%autoreload 2"
   ]
  },
  {
   "cell_type": "code",
   "execution_count": 3,
   "metadata": {},
   "outputs": [
    {
     "name": "stdout",
     "output_type": "stream",
     "text": [
      "['C:\\\\Users\\\\andre\\\\OneDrive\\\\Documents\\\\B1_Scientific_Coding\\\\b1-coding-practical-mt24:', 'c:\\\\Users\\\\andre\\\\AppData\\\\Local\\\\Programs\\\\Python\\\\Python311\\\\python311.zip', 'c:\\\\Users\\\\andre\\\\AppData\\\\Local\\\\Programs\\\\Python\\\\Python311\\\\DLLs', 'c:\\\\Users\\\\andre\\\\AppData\\\\Local\\\\Programs\\\\Python\\\\Python311\\\\Lib', 'c:\\\\Users\\\\andre\\\\AppData\\\\Local\\\\Programs\\\\Python\\\\Python311', '', 'C:\\\\Users\\\\andre\\\\AppData\\\\Roaming\\\\Python\\\\Python311\\\\site-packages', 'C:\\\\Users\\\\andre\\\\AppData\\\\Roaming\\\\Python\\\\Python311\\\\site-packages\\\\win32', 'C:\\\\Users\\\\andre\\\\AppData\\\\Roaming\\\\Python\\\\Python311\\\\site-packages\\\\win32\\\\lib', 'C:\\\\Users\\\\andre\\\\AppData\\\\Roaming\\\\Python\\\\Python311\\\\site-packages\\\\Pythonwin', 'c:\\\\Users\\\\andre\\\\AppData\\\\Local\\\\Programs\\\\Python\\\\Python311\\\\Lib\\\\site-packages', 'C:\\\\Users\\\\andre\\\\OneDrive\\\\Documents\\\\B1_Scientific_Coding\\\\b1-coding-practical-mt24']\n"
     ]
    }
   ],
   "source": [
    "# You can double-check your Python path like this...\n",
    "import sys  \n",
    "print(sys.path)"
   ]
  },
  {
   "cell_type": "markdown",
   "metadata": {},
   "source": [
    "# Simulate closed-loop\n",
    "After implementing your control functionality, you can simulate the closed-loop with code that looks something like this..."
   ]
  },
  {
   "cell_type": "code",
   "execution_count": 4,
   "metadata": {},
   "outputs": [
    {
     "ename": "ImportError",
     "evalue": "cannot import name 'controller' from 'uuv_mission' (C:\\Users\\andre\\OneDrive\\Documents\\B1_Scientific_Coding\\b1-coding-practical-mt24\\uuv_mission\\__init__.py)",
     "output_type": "error",
     "traceback": [
      "\u001b[1;31m---------------------------------------------------------------------------\u001b[0m",
      "\u001b[1;31mImportError\u001b[0m                               Traceback (most recent call last)",
      "Cell \u001b[1;32mIn[4], line 5\u001b[0m\n\u001b[0;32m      2\u001b[0m sys\u001b[38;5;241m.\u001b[39mpath\u001b[38;5;241m.\u001b[39mappend(\u001b[38;5;124mr\u001b[39m\u001b[38;5;124m'\u001b[39m\u001b[38;5;124mC:\u001b[39m\u001b[38;5;124m\\\u001b[39m\u001b[38;5;124mUsers\u001b[39m\u001b[38;5;124m\\\u001b[39m\u001b[38;5;124mandre\u001b[39m\u001b[38;5;124m\\\u001b[39m\u001b[38;5;124mOneDrive\u001b[39m\u001b[38;5;124m\\\u001b[39m\u001b[38;5;124mDocuments\u001b[39m\u001b[38;5;124m\\\u001b[39m\u001b[38;5;124mB1_Scientific_Coding\u001b[39m\u001b[38;5;124m\\\u001b[39m\u001b[38;5;124mb1-coding-practical-mt24\u001b[39m\u001b[38;5;124m'\u001b[39m)\n\u001b[0;32m      4\u001b[0m \u001b[38;5;66;03m# Import relevant modules\u001b[39;00m\n\u001b[1;32m----> 5\u001b[0m \u001b[38;5;28;01mfrom\u001b[39;00m \u001b[38;5;21;01muuv_mission\u001b[39;00m \u001b[38;5;28;01mimport\u001b[39;00m controller \u001b[38;5;28;01mas\u001b[39;00m ctr\n\u001b[0;32m      6\u001b[0m \u001b[38;5;28;01mfrom\u001b[39;00m \u001b[38;5;21;01muuv_mission\u001b[39;00m \u001b[38;5;28;01mimport\u001b[39;00m dynamic \u001b[38;5;28;01mas\u001b[39;00m dyn\n\u001b[0;32m      8\u001b[0m \u001b[38;5;66;03m#Define the submarine\u001b[39;00m\n",
      "\u001b[1;31mImportError\u001b[0m: cannot import name 'controller' from 'uuv_mission' (C:\\Users\\andre\\OneDrive\\Documents\\B1_Scientific_Coding\\b1-coding-practical-mt24\\uuv_mission\\__init__.py)"
     ]
    }
   ],
   "source": [
    "import sys\n",
    "sys.path.append(r'C:\\Users\\andre\\OneDrive\\Documents\\B1_Scientific_Coding\\b1-coding-practical-mt24')\n",
    "\n",
    "# Import relevant modules\n",
    "from uuv_mission import controller as ctr\n",
    "from uuv_mission import dynamic as dyn\n",
    "\n",
    "#Define the submarine\n",
    "sub = dyn.Submarine()\n",
    "\n",
    "# Create a PD controller with specific gains\n",
    "kp = 0.15  # Proportional gain\n",
    "kd = 0.6  # Derivative gain\n",
    "controller = ctr.PDController(kp, kd)\n",
    "\n",
    "# Instantiate your controller (depending on your implementation)\n",
    "closed_loop = dyn.ClosedLoop(sub, controller)\n",
    "mission = dyn.Mission.from_csv(\"C:\\\\Users\\\\andre\\\\OneDrive\\\\Documents\\\\B1_Scientific_Coding\\\\b1-coding-practical-mt24\\\\data\\\\mission.csv\") # You must implement this method in the Mission class\n",
    "\n",
    "trajectory = closed_loop.simulate_with_random_disturbances(mission)\n",
    "trajectory.plot_completed_mission(mission)"
   ]
  }
 ],
 "metadata": {
  "kernelspec": {
   "display_name": "Python 3",
   "language": "python",
   "name": "python3"
  },
  "language_info": {
   "codemirror_mode": {
    "name": "ipython",
    "version": 3
   },
   "file_extension": ".py",
   "mimetype": "text/x-python",
   "name": "python",
   "nbconvert_exporter": "python",
   "pygments_lexer": "ipython3",
   "version": "3.11.4"
  }
 },
 "nbformat": 4,
 "nbformat_minor": 2
}
